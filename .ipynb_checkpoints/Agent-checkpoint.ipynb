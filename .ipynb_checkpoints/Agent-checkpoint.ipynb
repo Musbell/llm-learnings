{
 "cells": [
  {
   "cell_type": "code",
   "execution_count": 11,
   "id": "b8438f92-05a7-4444-92d3-cf065dc06282",
   "metadata": {
    "tags": []
   },
   "outputs": [
    {
     "name": "stdout",
     "output_type": "stream",
     "text": [
      "Note: you may need to restart the kernel to use updated packages.\n"
     ]
    }
   ],
   "source": [
    "%pip install -qU langchain-community langgraph langchain-anthropic tavily-python"
   ]
  },
  {
   "cell_type": "code",
   "execution_count": 3,
   "id": "2ac2e891-1724-471c-87c0-f0ffa96a5755",
   "metadata": {
    "tags": []
   },
   "outputs": [
    {
     "name": "stdin",
     "output_type": "stream",
     "text": [
      " ········\n"
     ]
    }
   ],
   "source": [
    "import getpass\n",
    "import os\n",
    "\n",
    "os.environ[\"LANGCHAIN_TRACING_V2\"] = \"true\"\n",
    "os.environ[\"LANGCHAIN_API_KEY\"] = getpass.getpass()"
   ]
  },
  {
   "cell_type": "code",
   "execution_count": 5,
   "id": "98e3ee37-574b-4118-88be-c34222345d1f",
   "metadata": {
    "tags": []
   },
   "outputs": [
    {
     "name": "stdin",
     "output_type": "stream",
     "text": [
      " ········\n"
     ]
    }
   ],
   "source": [
    "import getpass\n",
    "import os\n",
    "\n",
    "os.environ[\"TAVILY_API_KEY\"] = getpass.getpass()"
   ]
  },
  {
   "cell_type": "code",
   "execution_count": 7,
   "id": "f7ace4dd-34c5-44ee-bb95-f1034690511d",
   "metadata": {
    "tags": []
   },
   "outputs": [
    {
     "name": "stdout",
     "output_type": "stream",
     "text": [
      "[{'url': 'https://www.weatherapi.com/', 'content': \"{'location': {'name': 'San Francisco', 'region': 'California', 'country': 'United States of America', 'lat': 37.78, 'lon': -122.42, 'tz_id': 'America/Los_Angeles', 'localtime_epoch': 1718377791, 'localtime': '2024-06-14 8:09'}, 'current': {'last_updated_epoch': 1718377200, 'last_updated': '2024-06-14 08:00', 'temp_c': 12.5, 'temp_f': 54.5, 'is_day': 1, 'condition': {'text': 'Sunny', 'icon': '//cdn.weatherapi.com/weather/64x64/day/113.png', 'code': 1000}, 'wind_mph': 5.1, 'wind_kph': 8.3, 'wind_degree': 206, 'wind_dir': 'SSW', 'pressure_mb': 1017.0, 'pressure_in': 30.04, 'precip_mm': 0.0, 'precip_in': 0.0, 'humidity': 77, 'cloud': 0, 'feelslike_c': 11.8, 'feelslike_f': 53.2, 'windchill_c': 11.8, 'windchill_f': 53.2, 'heatindex_c': 12.5, 'heatindex_f': 54.5, 'dewpoint_c': 8.4, 'dewpoint_f': 47.1, 'vis_km': 10.0, 'vis_miles': 6.0, 'uv': 4.0, 'gust_mph': 6.8, 'gust_kph': 11.0}}\"}, {'url': 'https://www.accuweather.com/en/us/san-francisco/94103/june-weather/347629', 'content': 'Get the monthly weather forecast for San Francisco, CA, including daily high/low, historical averages, to help you plan ahead.'}]\n"
     ]
    }
   ],
   "source": [
    "from langchain_community.tools.tavily_search import TavilySearchResults\n",
    "\n",
    "search = TavilySearchResults(max_results=2)\n",
    "search_results = search.invoke(\"what is the weather in SF\")\n",
    "print(search_results)\n",
    "# If we want, we can create other tools.\n",
    "# Once we have all the tools we want, we can put them in a list that we will reference later.\n",
    "tools = [search]"
   ]
  },
  {
   "cell_type": "code",
   "execution_count": 9,
   "id": "20a1d7d1-9a0f-4ea9-a302-2df1bfdfc0aa",
   "metadata": {
    "tags": []
   },
   "outputs": [
    {
     "name": "stdout",
     "output_type": "stream",
     "text": [
      "Note: you may need to restart the kernel to use updated packages.\n"
     ]
    }
   ],
   "source": [
    "%pip install -qU langchain-openai"
   ]
  },
  {
   "cell_type": "code",
   "execution_count": 15,
   "id": "c2e73eb9-ff6a-4c4f-bf8f-7c0cbfaa860b",
   "metadata": {
    "tags": []
   },
   "outputs": [
    {
     "name": "stdin",
     "output_type": "stream",
     "text": [
      " ········\n"
     ]
    }
   ],
   "source": [
    "import getpass\n",
    "import os\n",
    "\n",
    "os.environ[\"OPENAI_API_KEY\"] = getpass.getpass()\n",
    "\n",
    "from langchain_openai import ChatOpenAI\n",
    "\n",
    "model = ChatOpenAI(model=\"gpt-4o\")"
   ]
  },
  {
   "cell_type": "code",
   "execution_count": 17,
   "id": "01ad4a7a-aa92-4138-9439-923473c87378",
   "metadata": {
    "tags": []
   },
   "outputs": [
    {
     "data": {
      "text/plain": [
       "'Hello! How can I assist you today?'"
      ]
     },
     "execution_count": 17,
     "metadata": {},
     "output_type": "execute_result"
    }
   ],
   "source": [
    "from langchain_core.messages import HumanMessage\n",
    "\n",
    "response = model.invoke([HumanMessage(content=\"hi!\")])\n",
    "response.content"
   ]
  },
  {
   "cell_type": "code",
   "execution_count": 19,
   "id": "a4948327-88e7-488e-bdb4-ef57d6cd14f4",
   "metadata": {
    "tags": []
   },
   "outputs": [],
   "source": [
    "model_with_tools = model.bind_tools(tools)"
   ]
  },
  {
   "cell_type": "code",
   "execution_count": 21,
   "id": "df77c942-212c-4e1e-a39b-b8ffac6cfe51",
   "metadata": {
    "tags": []
   },
   "outputs": [
    {
     "name": "stdout",
     "output_type": "stream",
     "text": [
      "ContentString: Hello! How can I assist you today?\n",
      "ToolCalls: []\n"
     ]
    }
   ],
   "source": [
    "response = model_with_tools.invoke([HumanMessage(content=\"Hi!\")])\n",
    "\n",
    "print(f\"ContentString: {response.content}\")\n",
    "print(f\"ToolCalls: {response.tool_calls}\")"
   ]
  },
  {
   "cell_type": "code",
   "execution_count": 23,
   "id": "568ee955-7e2c-41f3-8f8c-cb5c5521d740",
   "metadata": {
    "tags": []
   },
   "outputs": [
    {
     "name": "stdout",
     "output_type": "stream",
     "text": [
      "ContentString: \n",
      "ToolCalls: [{'name': 'tavily_search_results_json', 'args': {'query': 'current weather in San Francisco'}, 'id': 'call_xwOqA68HnHPhkm4HXkHTMHyi'}]\n"
     ]
    }
   ],
   "source": [
    "response = model_with_tools.invoke([HumanMessage(content=\"What's the weather in SF?\")])\n",
    "\n",
    "print(f\"ContentString: {response.content}\")\n",
    "print(f\"ToolCalls: {response.tool_calls}\")"
   ]
  },
  {
   "cell_type": "code",
   "execution_count": 25,
   "id": "823a11b4-ca7f-49c5-8ebb-3bd05601228a",
   "metadata": {
    "tags": []
   },
   "outputs": [],
   "source": [
    "from langgraph.prebuilt import create_react_agent\n",
    "\n",
    "agent_executor = create_react_agent(model, tools)"
   ]
  },
  {
   "cell_type": "code",
   "execution_count": 27,
   "id": "66c2a57e-22f6-44f8-986e-dbaefcacb517",
   "metadata": {
    "tags": []
   },
   "outputs": [
    {
     "data": {
      "text/plain": [
       "[HumanMessage(content='hi!', id='348679ff-ca35-4e20-9ef3-5c9dbbd823b4'),\n",
       " AIMessage(content='Hello! How can I assist you today?', response_metadata={'token_usage': {'completion_tokens': 10, 'prompt_tokens': 81, 'total_tokens': 91}, 'model_name': 'gpt-4o', 'system_fingerprint': 'fp_319be4768e', 'finish_reason': 'stop', 'logprobs': None}, id='run-60bb9090-48d1-425f-b0a9-f79ee0395184-0', usage_metadata={'input_tokens': 81, 'output_tokens': 10, 'total_tokens': 91})]"
      ]
     },
     "execution_count": 27,
     "metadata": {},
     "output_type": "execute_result"
    }
   ],
   "source": [
    "response = agent_executor.invoke({\"messages\": [HumanMessage(content=\"hi!\")]})\n",
    "\n",
    "response[\"messages\"]"
   ]
  },
  {
   "cell_type": "code",
   "execution_count": 29,
   "id": "a0c7da3b-80c7-4ebd-934d-df8caac2ad18",
   "metadata": {
    "tags": []
   },
   "outputs": [
    {
     "data": {
      "text/plain": [
       "[HumanMessage(content='whats the weather in sf?', id='2abedb8b-ffb6-4213-8aaf-2993c7cd34d0'),\n",
       " AIMessage(content='', additional_kwargs={'tool_calls': [{'id': 'call_h8uC2zoIpmki581GI1xMgpqj', 'function': {'arguments': '{\"query\":\"current weather in San Francisco\"}', 'name': 'tavily_search_results_json'}, 'type': 'function'}]}, response_metadata={'token_usage': {'completion_tokens': 22, 'prompt_tokens': 86, 'total_tokens': 108}, 'model_name': 'gpt-4o', 'system_fingerprint': 'fp_319be4768e', 'finish_reason': 'tool_calls', 'logprobs': None}, id='run-04064a6a-11d8-4d67-8ae6-615913cd4b7f-0', tool_calls=[{'name': 'tavily_search_results_json', 'args': {'query': 'current weather in San Francisco'}, 'id': 'call_h8uC2zoIpmki581GI1xMgpqj'}], usage_metadata={'input_tokens': 86, 'output_tokens': 22, 'total_tokens': 108}),\n",
       " ToolMessage(content='[{\"url\": \"https://www.weatherapi.com/\", \"content\": \"{\\'location\\': {\\'name\\': \\'San Francisco\\', \\'region\\': \\'California\\', \\'country\\': \\'United States of America\\', \\'lat\\': 37.78, \\'lon\\': -122.42, \\'tz_id\\': \\'America/Los_Angeles\\', \\'localtime_epoch\\': 1718378681, \\'localtime\\': \\'2024-06-14 8:24\\'}, \\'current\\': {\\'last_updated_epoch\\': 1718378100, \\'last_updated\\': \\'2024-06-14 08:15\\', \\'temp_c\\': 12.5, \\'temp_f\\': 54.5, \\'is_day\\': 1, \\'condition\\': {\\'text\\': \\'Sunny\\', \\'icon\\': \\'//cdn.weatherapi.com/weather/64x64/day/113.png\\', \\'code\\': 1000}, \\'wind_mph\\': 5.1, \\'wind_kph\\': 8.3, \\'wind_degree\\': 206, \\'wind_dir\\': \\'SSW\\', \\'pressure_mb\\': 1017.0, \\'pressure_in\\': 30.04, \\'precip_mm\\': 0.0, \\'precip_in\\': 0.0, \\'humidity\\': 77, \\'cloud\\': 0, \\'feelslike_c\\': 11.8, \\'feelslike_f\\': 53.2, \\'windchill_c\\': 11.8, \\'windchill_f\\': 53.2, \\'heatindex_c\\': 12.5, \\'heatindex_f\\': 54.5, \\'dewpoint_c\\': 8.4, \\'dewpoint_f\\': 47.1, \\'vis_km\\': 10.0, \\'vis_miles\\': 6.0, \\'uv\\': 4.0, \\'gust_mph\\': 6.8, \\'gust_kph\\': 11.0}}\"}, {\"url\": \"https://www.weathertab.com/en/c/e/06/united-states/california/san-francisco/\", \"content\": \"Temperature Forecast Normal. Avg High Temps 60 to 70 \\\\u00b0F. Avg Low Temps 45 to 60 \\\\u00b0F. Explore comprehensive June 2024 weather forecasts for San Francisco, including daily high and low temperatures, precipitation risks, and monthly temperature trends. Featuring detailed day-by-day forecasts, dynamic graphs of daily rain probabilities, and ...\"}]', name='tavily_search_results_json', id='0d7d61c3-2d68-4cc1-b892-982ce960a3ba', tool_call_id='call_h8uC2zoIpmki581GI1xMgpqj'),\n",
       " AIMessage(content='The current weather in San Francisco is as follows:\\n\\n- **Temperature**: 12.5°C (54.5°F)\\n- **Condition**: Sunny\\n- **Wind**: 5.1 mph (8.3 kph) from the South-Southwest (SSW)\\n- **Humidity**: 77%\\n- **Visibility**: 10 km (6 miles)\\n- **UV Index**: 4\\n\\nIt feels like 11.8°C (53.2°F) due to the wind chill.', response_metadata={'token_usage': {'completion_tokens': 110, 'prompt_tokens': 635, 'total_tokens': 745}, 'model_name': 'gpt-4o', 'system_fingerprint': 'fp_319be4768e', 'finish_reason': 'stop', 'logprobs': None}, id='run-a183710a-a0df-4155-8ca4-da704e6d67c3-0', usage_metadata={'input_tokens': 635, 'output_tokens': 110, 'total_tokens': 745})]"
      ]
     },
     "execution_count": 29,
     "metadata": {},
     "output_type": "execute_result"
    }
   ],
   "source": [
    "response = agent_executor.invoke(\n",
    "    {\"messages\": [HumanMessage(content=\"whats the weather in sf?\")]}\n",
    ")\n",
    "response[\"messages\"]"
   ]
  },
  {
   "cell_type": "code",
   "execution_count": 31,
   "id": "91b3b297-81bf-46c2-83a0-3d184c19b0f5",
   "metadata": {
    "tags": []
   },
   "outputs": [
    {
     "name": "stdout",
     "output_type": "stream",
     "text": [
      "{'agent': {'messages': [AIMessage(content='', additional_kwargs={'tool_calls': [{'id': 'call_ebWVQU4qRRvaC3EXx4BQUDTZ', 'function': {'arguments': '{\"query\":\"current weather in San Francisco\"}', 'name': 'tavily_search_results_json'}, 'type': 'function'}]}, response_metadata={'token_usage': {'completion_tokens': 22, 'prompt_tokens': 86, 'total_tokens': 108}, 'model_name': 'gpt-4o', 'system_fingerprint': 'fp_319be4768e', 'finish_reason': 'tool_calls', 'logprobs': None}, id='run-3291af39-0ec1-457a-907a-e69e4935aaa7-0', tool_calls=[{'name': 'tavily_search_results_json', 'args': {'query': 'current weather in San Francisco'}, 'id': 'call_ebWVQU4qRRvaC3EXx4BQUDTZ'}], usage_metadata={'input_tokens': 86, 'output_tokens': 22, 'total_tokens': 108})]}}\n",
      "----\n",
      "{'tools': {'messages': [ToolMessage(content='[{\"url\": \"https://www.weatherapi.com/\", \"content\": \"{\\'location\\': {\\'name\\': \\'San Francisco\\', \\'region\\': \\'California\\', \\'country\\': \\'United States of America\\', \\'lat\\': 37.78, \\'lon\\': -122.42, \\'tz_id\\': \\'America/Los_Angeles\\', \\'localtime_epoch\\': 1718378681, \\'localtime\\': \\'2024-06-14 8:24\\'}, \\'current\\': {\\'last_updated_epoch\\': 1718378100, \\'last_updated\\': \\'2024-06-14 08:15\\', \\'temp_c\\': 12.5, \\'temp_f\\': 54.5, \\'is_day\\': 1, \\'condition\\': {\\'text\\': \\'Sunny\\', \\'icon\\': \\'//cdn.weatherapi.com/weather/64x64/day/113.png\\', \\'code\\': 1000}, \\'wind_mph\\': 5.1, \\'wind_kph\\': 8.3, \\'wind_degree\\': 206, \\'wind_dir\\': \\'SSW\\', \\'pressure_mb\\': 1017.0, \\'pressure_in\\': 30.04, \\'precip_mm\\': 0.0, \\'precip_in\\': 0.0, \\'humidity\\': 77, \\'cloud\\': 0, \\'feelslike_c\\': 11.8, \\'feelslike_f\\': 53.2, \\'windchill_c\\': 11.8, \\'windchill_f\\': 53.2, \\'heatindex_c\\': 12.5, \\'heatindex_f\\': 54.5, \\'dewpoint_c\\': 8.4, \\'dewpoint_f\\': 47.1, \\'vis_km\\': 10.0, \\'vis_miles\\': 6.0, \\'uv\\': 4.0, \\'gust_mph\\': 6.8, \\'gust_kph\\': 11.0}}\"}, {\"url\": \"https://www.wunderground.com/hourly/us/ca/san-francisco/94134/date/2024-6-14\", \"content\": \"Hourly Forecast for Friday 06/14. Friday 06/14. 5 % / 0 in. A mainly sunny sky. High 71F. Winds W at 15 to 25 mph. Friday Night 06/14. 5 % / 0 in. A mostly clear sky.\"}]', name='tavily_search_results_json', tool_call_id='call_ebWVQU4qRRvaC3EXx4BQUDTZ')]}}\n",
      "----\n",
      "{'agent': {'messages': [AIMessage(content='The current weather in San Francisco is as follows:\\n\\n- **Temperature**: 12.5°C (54.5°F)\\n- **Condition**: Sunny\\n- **Wind**: 5.1 mph (8.3 kph) from the SSW\\n- **Humidity**: 77%\\n- **Pressure**: 1017 mb\\n- **Visibility**: 10 km (6 miles)\\n- **UV Index**: 4\\n\\nFor the rest of the day, the forecast includes:\\n- **Day**: Mainly sunny with a high of 71°F. Winds from the west at 15 to 25 mph.\\n- **Night**: Mostly clear skies.', response_metadata={'token_usage': {'completion_tokens': 142, 'prompt_tokens': 624, 'total_tokens': 766}, 'model_name': 'gpt-4o', 'system_fingerprint': 'fp_319be4768e', 'finish_reason': 'stop', 'logprobs': None}, id='run-d337e13c-abb6-4891-9367-e47dc6ee5895-0', usage_metadata={'input_tokens': 624, 'output_tokens': 142, 'total_tokens': 766})]}}\n",
      "----\n"
     ]
    }
   ],
   "source": [
    "for chunk in agent_executor.stream(\n",
    "    {\"messages\": [HumanMessage(content=\"whats the weather in sf?\")]}\n",
    "):\n",
    "    print(chunk)\n",
    "    print(\"----\")"
   ]
  },
  {
   "cell_type": "code",
   "execution_count": 33,
   "id": "fc8ea9f9-92fb-4fdf-8c0d-c8c235ef5a8a",
   "metadata": {
    "tags": []
   },
   "outputs": [
    {
     "name": "stderr",
     "output_type": "stream",
     "text": [
      "/Users/musabello/anaconda3/lib/python3.11/site-packages/langchain_core/_api/beta_decorator.py:87: LangChainBetaWarning: This API is in beta and may change in the future.\n",
      "  warn_beta(\n"
     ]
    },
    {
     "name": "stdout",
     "output_type": "stream",
     "text": [
      "--\n",
      "Starting tool: tavily_search_results_json with inputs: {'query': 'current weather in San Francisco'}\n",
      "Done tool: tavily_search_results_json\n",
      "Tool output was: [{'url': 'https://www.weatherapi.com/', 'content': \"{'location': {'name': 'San Francisco', 'region': 'California', 'country': 'United States of America', 'lat': 37.78, 'lon': -122.42, 'tz_id': 'America/Los_Angeles', 'localtime_epoch': 1718378681, 'localtime': '2024-06-14 8:24'}, 'current': {'last_updated_epoch': 1718378100, 'last_updated': '2024-06-14 08:15', 'temp_c': 12.5, 'temp_f': 54.5, 'is_day': 1, 'condition': {'text': 'Sunny', 'icon': '//cdn.weatherapi.com/weather/64x64/day/113.png', 'code': 1000}, 'wind_mph': 5.1, 'wind_kph': 8.3, 'wind_degree': 206, 'wind_dir': 'SSW', 'pressure_mb': 1017.0, 'pressure_in': 30.04, 'precip_mm': 0.0, 'precip_in': 0.0, 'humidity': 77, 'cloud': 0, 'feelslike_c': 11.8, 'feelslike_f': 53.2, 'windchill_c': 11.8, 'windchill_f': 53.2, 'heatindex_c': 12.5, 'heatindex_f': 54.5, 'dewpoint_c': 8.4, 'dewpoint_f': 47.1, 'vis_km': 10.0, 'vis_miles': 6.0, 'uv': 4.0, 'gust_mph': 6.8, 'gust_kph': 11.0}}\"}, {'url': 'https://www.weathertab.com/en/c/e/06/united-states/california/san-francisco/', 'content': 'Temperature Forecast Normal. Avg High Temps 60 to 70 °F. Avg Low Temps 45 to 60 °F. Explore comprehensive June 2024 weather forecasts for San Francisco, including daily high and low temperatures, precipitation risks, and monthly temperature trends. Featuring detailed day-by-day forecasts, dynamic graphs of daily rain probabilities, and ...'}]\n",
      "--\n",
      "The| current| weather| in| San| Francisco| is| sunny| with| a| temperature| of| |12|.|5|°C| (|54|.|5|°F|).| The| wind| is| blowing| from| the| south|-s|outh|west| at| |5|.|1| mph| (|8|.|3| k|ph|).| The| humidity| level| is| at| |77|%,| and| visibility| is| |10| km| (|6| miles|).\n",
      "\n",
      "|![|Sunny|](|//|cdn|.weather|api|.com|/weather|/|64|x|64|/day|/|113|.png|)|"
     ]
    }
   ],
   "source": [
    "async for event in agent_executor.astream_events(\n",
    "    {\"messages\": [HumanMessage(content=\"whats the weather in sf?\")]}, version=\"v1\"\n",
    "):\n",
    "    kind = event[\"event\"]\n",
    "    if kind == \"on_chain_start\":\n",
    "        if (\n",
    "            event[\"name\"] == \"Agent\"\n",
    "        ):  # Was assigned when creating the agent with `.with_config({\"run_name\": \"Agent\"})`\n",
    "            print(\n",
    "                f\"Starting agent: {event['name']} with input: {event['data'].get('input')}\"\n",
    "            )\n",
    "    elif kind == \"on_chain_end\":\n",
    "        if (\n",
    "            event[\"name\"] == \"Agent\"\n",
    "        ):  # Was assigned when creating the agent with `.with_config({\"run_name\": \"Agent\"})`\n",
    "            print()\n",
    "            print(\"--\")\n",
    "            print(\n",
    "                f\"Done agent: {event['name']} with output: {event['data'].get('output')['output']}\"\n",
    "            )\n",
    "    if kind == \"on_chat_model_stream\":\n",
    "        content = event[\"data\"][\"chunk\"].content\n",
    "        if content:\n",
    "            # Empty content in the context of OpenAI means\n",
    "            # that the model is asking for a tool to be invoked.\n",
    "            # So we only print non-empty content\n",
    "            print(content, end=\"|\")\n",
    "    elif kind == \"on_tool_start\":\n",
    "        print(\"--\")\n",
    "        print(\n",
    "            f\"Starting tool: {event['name']} with inputs: {event['data'].get('input')}\"\n",
    "        )\n",
    "    elif kind == \"on_tool_end\":\n",
    "        print(f\"Done tool: {event['name']}\")\n",
    "        print(f\"Tool output was: {event['data'].get('output')}\")\n",
    "        print(\"--\")"
   ]
  },
  {
   "cell_type": "code",
   "execution_count": 35,
   "id": "f64403db-1283-417c-9efd-e252627d5b26",
   "metadata": {
    "tags": []
   },
   "outputs": [],
   "source": [
    "from langgraph.checkpoint.sqlite import SqliteSaver\n",
    "\n",
    "memory = SqliteSaver.from_conn_string(\":memory:\")"
   ]
  },
  {
   "cell_type": "code",
   "execution_count": 37,
   "id": "a9c3ba71-48bd-4b34-b0b8-631375dabff9",
   "metadata": {
    "tags": []
   },
   "outputs": [],
   "source": [
    "agent_executor = create_react_agent(model, tools, checkpointer=memory)\n",
    "\n",
    "config = {\"configurable\": {\"thread_id\": \"abc123\"}}"
   ]
  },
  {
   "cell_type": "code",
   "execution_count": 39,
   "id": "b5b84302-1a8b-4629-a6e6-6bdffb2e1e97",
   "metadata": {
    "tags": []
   },
   "outputs": [
    {
     "name": "stdout",
     "output_type": "stream",
     "text": [
      "{'agent': {'messages': [AIMessage(content='Hello Bob! How can I assist you today?', response_metadata={'token_usage': {'completion_tokens': 11, 'prompt_tokens': 83, 'total_tokens': 94}, 'model_name': 'gpt-4o', 'system_fingerprint': 'fp_319be4768e', 'finish_reason': 'stop', 'logprobs': None}, id='run-42217982-1478-4ecf-bb56-31c0c49014c3-0', usage_metadata={'input_tokens': 83, 'output_tokens': 11, 'total_tokens': 94})]}}\n",
      "----\n"
     ]
    }
   ],
   "source": [
    "for chunk in agent_executor.stream(\n",
    "    {\"messages\": [HumanMessage(content=\"hi im bob!\")]}, config\n",
    "):\n",
    "    print(chunk)\n",
    "    print(\"----\")"
   ]
  },
  {
   "cell_type": "code",
   "execution_count": 45,
   "id": "abbb4962-3ad0-48f2-b495-ec41cdc7aec9",
   "metadata": {
    "tags": []
   },
   "outputs": [
    {
     "name": "stdout",
     "output_type": "stream",
     "text": [
      "{'agent': {'messages': [AIMessage(content='', additional_kwargs={'tool_calls': [{'id': 'call_qSXlnr9hPDC7eTdiWt0TgZFr', 'function': {'arguments': '{\"query\":\"Bello Musa also known as Musbell\"}', 'name': 'tavily_search_results_json'}, 'type': 'function'}]}, response_metadata={'token_usage': {'completion_tokens': 25, 'prompt_tokens': 138, 'total_tokens': 163}, 'model_name': 'gpt-4o', 'system_fingerprint': 'fp_aa87380ac5', 'finish_reason': 'tool_calls', 'logprobs': None}, id='run-c904294a-4566-4f30-ae16-0a6ff8b9584c-0', tool_calls=[{'name': 'tavily_search_results_json', 'args': {'query': 'Bello Musa also known as Musbell'}, 'id': 'call_qSXlnr9hPDC7eTdiWt0TgZFr'}], usage_metadata={'input_tokens': 138, 'output_tokens': 25, 'total_tokens': 163})]}}\n",
      "----\n",
      "{'tools': {'messages': [ToolMessage(content='[{\"url\": \"https://ma.linkedin.com/in/musbell\", \"content\": \"Frontend Engineer at FlexiSAF Edusoft Limited \\\\u00b7 Hi, I&#39;m Bello Musa, a Full-Stack Engineer.I have over 5 years of hands-on experience efficiently working in software development and I am passionate about contributing to open source projects. and enterprise applications using modern architecture and frameworks such as Jamstack, Serverless Microservice, Vue/Nuxt, Nextjs/Reactjs, NestJS ...\"}, {\"url\": \"https://github.com/Musbell\", \"content\": \"Contributed to Musbell/VPIC-NHTSA-API, Musbell/openapi-api-specs, Musbell/USGS-Water-Services-API and 23 other repositories Contribution activity August 2023\"}]', name='tavily_search_results_json', tool_call_id='call_qSXlnr9hPDC7eTdiWt0TgZFr')]}}\n",
      "----\n",
      "{'agent': {'messages': [AIMessage(content='Bello Musa, also known as Musbell, is a Full-Stack Engineer with over 5 years of hands-on experience in software development. He works as a Frontend Engineer at FlexiSAF Edusoft Limited. Bello Musa is passionate about contributing to open source projects and enterprise applications using modern architecture and frameworks such as Jamstack, Serverless Microservice, Vue/Nuxt, Next.js/React.js, and NestJS.\\n\\nYou can find more about his work on his [LinkedIn profile](https://ma.linkedin.com/in/musbell) and his contributions on his [GitHub profile](https://github.com/Musbell).', response_metadata={'token_usage': {'completion_tokens': 132, 'prompt_tokens': 345, 'total_tokens': 477}, 'model_name': 'gpt-4o', 'system_fingerprint': 'fp_319be4768e', 'finish_reason': 'stop', 'logprobs': None}, id='run-8ada715a-6313-47fa-beb2-abeaae1141a6-0', usage_metadata={'input_tokens': 345, 'output_tokens': 132, 'total_tokens': 477})]}}\n",
      "----\n"
     ]
    }
   ],
   "source": [
    "for chunk in agent_executor.stream(\n",
    "    {\"messages\": [HumanMessage(content=\"Who is Bello Musa also known as Musbell?\")]}, config\n",
    "):\n",
    "    print(chunk)\n",
    "    print(\"----\")"
   ]
  }
 ],
 "metadata": {
  "kernelspec": {
   "display_name": "Python 3 (ipykernel)",
   "language": "python",
   "name": "python3"
  },
  "language_info": {
   "codemirror_mode": {
    "name": "ipython",
    "version": 3
   },
   "file_extension": ".py",
   "mimetype": "text/x-python",
   "name": "python",
   "nbconvert_exporter": "python",
   "pygments_lexer": "ipython3",
   "version": "3.11.5"
  }
 },
 "nbformat": 4,
 "nbformat_minor": 5
}
