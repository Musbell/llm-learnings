{
 "cells": [
  {
   "cell_type": "code",
   "execution_count": 121,
   "id": "8ae51540-1a94-4b8f-b8a4-1fe94c6787ca",
   "metadata": {
    "tags": []
   },
   "outputs": [
    {
     "name": "stdin",
     "output_type": "stream",
     "text": [
      " ········\n"
     ]
    }
   ],
   "source": [
    "import getpass\n",
    "import os\n",
    "\n",
    "os.environ[\"LANGCHAIN_TRACING_V2\"] = \"true\"\n",
    "os.environ[\"LANGCHAIN_API_KEY\"] = getpass.getpass()"
   ]
  },
  {
   "cell_type": "code",
   "execution_count": 75,
   "id": "5a623985-c9d8-49e4-8c0b-64382610f673",
   "metadata": {
    "tags": []
   },
   "outputs": [
    {
     "name": "stdout",
     "output_type": "stream",
     "text": [
      "Note: you may need to restart the kernel to use updated packages.\n"
     ]
    }
   ],
   "source": [
    "%pip install -qU pypdf langchain_community"
   ]
  },
  {
   "cell_type": "code",
   "execution_count": 77,
   "id": "a4d21f71-4b65-4c7b-a64b-765707440749",
   "metadata": {
    "tags": []
   },
   "outputs": [
    {
     "name": "stdout",
     "output_type": "stream",
     "text": [
      "13\n"
     ]
    }
   ],
   "source": [
    "from langchain_community.document_loaders import PyPDFLoader\n",
    "\n",
    "file_path = \"./Tomato Farming in Nigeria.pdf\"\n",
    "loader = PyPDFLoader(file_path)\n",
    "\n",
    "docs = loader.load()\n",
    "\n",
    "print(len(docs))"
   ]
  },
  {
   "cell_type": "code",
   "execution_count": 79,
   "id": "ad32ab72-2b3b-4062-923d-69f16ff6933f",
   "metadata": {
    "tags": []
   },
   "outputs": [
    {
     "name": "stdout",
     "output_type": "stream",
     "text": [
      "Tomato Farming in Nigeria: A Complete Guide July 26, 2020  Share Tweet Share Tomato farming involves\n",
      "{'source': './Tomato Farming in Nigeria.pdf', 'page': 0}\n"
     ]
    }
   ],
   "source": [
    "print(docs[0].page_content[0:100])\n",
    "print(docs[0].metadata)"
   ]
  },
  {
   "cell_type": "code",
   "execution_count": 81,
   "id": "266eef98-3565-4820-a3d4-37796be35463",
   "metadata": {
    "tags": []
   },
   "outputs": [
    {
     "name": "stdout",
     "output_type": "stream",
     "text": [
      "Note: you may need to restart the kernel to use updated packages.\n"
     ]
    }
   ],
   "source": [
    "pip install -qU langchain-groq"
   ]
  },
  {
   "cell_type": "code",
   "execution_count": 123,
   "id": "9498acde-9c22-4212-9e2b-a382382ecdc4",
   "metadata": {
    "tags": []
   },
   "outputs": [
    {
     "name": "stdin",
     "output_type": "stream",
     "text": [
      " ········\n"
     ]
    }
   ],
   "source": [
    "# import getpass\n",
    "# import os\n",
    "\n",
    "# os.environ[\"GROQ_API_KEY\"] = getpass.getpass()\n",
    "\n",
    "# from langchain_groq import ChatGroq\n",
    "\n",
    "# model = ChatGroq(model=\"llama3-8b-8192\")\n",
    "import os\n",
    "from getpass import getpass\n",
    "\n",
    "PPLX_API_KEY = getpass()\n",
    "os.environ[\"PPLX_API_KEY\"] = PPLX_API_KEY\n",
    "\n",
    "chat = ChatPerplexity(temperature=0, model=\"pplx-70b-online\")"
   ]
  },
  {
   "cell_type": "code",
   "execution_count": 125,
   "id": "54066ac9-d475-4f4d-bb9f-10bcb6cda546",
   "metadata": {
    "tags": []
   },
   "outputs": [
    {
     "name": "stdout",
     "output_type": "stream",
     "text": [
      "Requirement already satisfied: langchain_chroma in /Users/musabello/anaconda3/lib/python3.11/site-packages (0.1.1)\n",
      "Requirement already satisfied: langchain_openai in /Users/musabello/anaconda3/lib/python3.11/site-packages (0.1.8)\n",
      "Requirement already satisfied: chromadb<0.6.0,>=0.4.0 in /Users/musabello/anaconda3/lib/python3.11/site-packages (from langchain_chroma) (0.5.0)\n",
      "Requirement already satisfied: fastapi<1,>=0.95.2 in /Users/musabello/anaconda3/lib/python3.11/site-packages (from langchain_chroma) (0.111.0)\n",
      "Requirement already satisfied: langchain-core<0.3,>=0.1.40 in /Users/musabello/anaconda3/lib/python3.11/site-packages (from langchain_chroma) (0.2.8)\n",
      "Requirement already satisfied: numpy<2,>=1 in /Users/musabello/anaconda3/lib/python3.11/site-packages (from langchain_chroma) (1.24.3)\n",
      "Requirement already satisfied: openai<2.0.0,>=1.26.0 in /Users/musabello/anaconda3/lib/python3.11/site-packages (from langchain_openai) (1.34.0)\n",
      "Requirement already satisfied: tiktoken<1,>=0.7 in /Users/musabello/anaconda3/lib/python3.11/site-packages (from langchain_openai) (0.7.0)\n",
      "Requirement already satisfied: build>=1.0.3 in /Users/musabello/anaconda3/lib/python3.11/site-packages (from chromadb<0.6.0,>=0.4.0->langchain_chroma) (1.2.1)\n",
      "Requirement already satisfied: requests>=2.28 in /Users/musabello/anaconda3/lib/python3.11/site-packages (from chromadb<0.6.0,>=0.4.0->langchain_chroma) (2.31.0)\n",
      "Requirement already satisfied: pydantic>=1.9 in /Users/musabello/anaconda3/lib/python3.11/site-packages (from chromadb<0.6.0,>=0.4.0->langchain_chroma) (1.10.8)\n",
      "Requirement already satisfied: chroma-hnswlib==0.7.3 in /Users/musabello/anaconda3/lib/python3.11/site-packages (from chromadb<0.6.0,>=0.4.0->langchain_chroma) (0.7.3)\n",
      "Requirement already satisfied: uvicorn[standard]>=0.18.3 in /Users/musabello/anaconda3/lib/python3.11/site-packages (from chromadb<0.6.0,>=0.4.0->langchain_chroma) (0.30.1)\n",
      "Requirement already satisfied: posthog>=2.4.0 in /Users/musabello/anaconda3/lib/python3.11/site-packages (from chromadb<0.6.0,>=0.4.0->langchain_chroma) (3.5.0)\n",
      "Requirement already satisfied: typing-extensions>=4.5.0 in /Users/musabello/anaconda3/lib/python3.11/site-packages (from chromadb<0.6.0,>=0.4.0->langchain_chroma) (4.12.2)\n",
      "Requirement already satisfied: onnxruntime>=1.14.1 in /Users/musabello/anaconda3/lib/python3.11/site-packages (from chromadb<0.6.0,>=0.4.0->langchain_chroma) (1.18.0)\n",
      "Requirement already satisfied: opentelemetry-api>=1.2.0 in /Users/musabello/anaconda3/lib/python3.11/site-packages (from chromadb<0.6.0,>=0.4.0->langchain_chroma) (1.25.0)\n",
      "Requirement already satisfied: opentelemetry-exporter-otlp-proto-grpc>=1.2.0 in /Users/musabello/anaconda3/lib/python3.11/site-packages (from chromadb<0.6.0,>=0.4.0->langchain_chroma) (1.25.0)\n",
      "Requirement already satisfied: opentelemetry-instrumentation-fastapi>=0.41b0 in /Users/musabello/anaconda3/lib/python3.11/site-packages (from chromadb<0.6.0,>=0.4.0->langchain_chroma) (0.46b0)\n",
      "Requirement already satisfied: opentelemetry-sdk>=1.2.0 in /Users/musabello/anaconda3/lib/python3.11/site-packages (from chromadb<0.6.0,>=0.4.0->langchain_chroma) (1.25.0)\n",
      "Requirement already satisfied: tokenizers>=0.13.2 in /Users/musabello/anaconda3/lib/python3.11/site-packages (from chromadb<0.6.0,>=0.4.0->langchain_chroma) (0.13.2)\n",
      "Requirement already satisfied: pypika>=0.48.9 in /Users/musabello/anaconda3/lib/python3.11/site-packages (from chromadb<0.6.0,>=0.4.0->langchain_chroma) (0.48.9)\n",
      "Requirement already satisfied: tqdm>=4.65.0 in /Users/musabello/anaconda3/lib/python3.11/site-packages (from chromadb<0.6.0,>=0.4.0->langchain_chroma) (4.65.0)\n",
      "Requirement already satisfied: overrides>=7.3.1 in /Users/musabello/anaconda3/lib/python3.11/site-packages (from chromadb<0.6.0,>=0.4.0->langchain_chroma) (7.7.0)\n",
      "Requirement already satisfied: importlib-resources in /Users/musabello/anaconda3/lib/python3.11/site-packages (from chromadb<0.6.0,>=0.4.0->langchain_chroma) (6.4.0)\n",
      "Requirement already satisfied: grpcio>=1.58.0 in /Users/musabello/anaconda3/lib/python3.11/site-packages (from chromadb<0.6.0,>=0.4.0->langchain_chroma) (1.64.1)\n",
      "Requirement already satisfied: bcrypt>=4.0.1 in /Users/musabello/anaconda3/lib/python3.11/site-packages (from chromadb<0.6.0,>=0.4.0->langchain_chroma) (4.1.3)\n",
      "Requirement already satisfied: typer>=0.9.0 in /Users/musabello/anaconda3/lib/python3.11/site-packages (from chromadb<0.6.0,>=0.4.0->langchain_chroma) (0.12.3)\n",
      "Requirement already satisfied: kubernetes>=28.1.0 in /Users/musabello/anaconda3/lib/python3.11/site-packages (from chromadb<0.6.0,>=0.4.0->langchain_chroma) (30.1.0)\n",
      "Requirement already satisfied: tenacity>=8.2.3 in /Users/musabello/anaconda3/lib/python3.11/site-packages (from chromadb<0.6.0,>=0.4.0->langchain_chroma) (8.3.0)\n",
      "Requirement already satisfied: PyYAML>=6.0.0 in /Users/musabello/anaconda3/lib/python3.11/site-packages (from chromadb<0.6.0,>=0.4.0->langchain_chroma) (6.0)\n",
      "Requirement already satisfied: mmh3>=4.0.1 in /Users/musabello/anaconda3/lib/python3.11/site-packages (from chromadb<0.6.0,>=0.4.0->langchain_chroma) (4.1.0)\n",
      "Requirement already satisfied: orjson>=3.9.12 in /Users/musabello/anaconda3/lib/python3.11/site-packages (from chromadb<0.6.0,>=0.4.0->langchain_chroma) (3.10.4)\n",
      "Requirement already satisfied: starlette<0.38.0,>=0.37.2 in /Users/musabello/anaconda3/lib/python3.11/site-packages (from fastapi<1,>=0.95.2->langchain_chroma) (0.37.2)\n",
      "Requirement already satisfied: fastapi-cli>=0.0.2 in /Users/musabello/anaconda3/lib/python3.11/site-packages (from fastapi<1,>=0.95.2->langchain_chroma) (0.0.4)\n",
      "Requirement already satisfied: httpx>=0.23.0 in /Users/musabello/anaconda3/lib/python3.11/site-packages (from fastapi<1,>=0.95.2->langchain_chroma) (0.23.0)\n",
      "Requirement already satisfied: jinja2>=2.11.2 in /Users/musabello/anaconda3/lib/python3.11/site-packages (from fastapi<1,>=0.95.2->langchain_chroma) (3.1.2)\n",
      "Requirement already satisfied: python-multipart>=0.0.7 in /Users/musabello/anaconda3/lib/python3.11/site-packages (from fastapi<1,>=0.95.2->langchain_chroma) (0.0.9)\n",
      "Requirement already satisfied: ujson!=4.0.2,!=4.1.0,!=4.2.0,!=4.3.0,!=5.0.0,!=5.1.0,>=4.0.1 in /Users/musabello/anaconda3/lib/python3.11/site-packages (from fastapi<1,>=0.95.2->langchain_chroma) (5.4.0)\n",
      "Requirement already satisfied: email_validator>=2.0.0 in /Users/musabello/anaconda3/lib/python3.11/site-packages (from fastapi<1,>=0.95.2->langchain_chroma) (2.1.1)\n",
      "Requirement already satisfied: jsonpatch<2.0,>=1.33 in /Users/musabello/anaconda3/lib/python3.11/site-packages (from langchain-core<0.3,>=0.1.40->langchain_chroma) (1.33)\n",
      "Requirement already satisfied: langsmith<0.2.0,>=0.1.75 in /Users/musabello/anaconda3/lib/python3.11/site-packages (from langchain-core<0.3,>=0.1.40->langchain_chroma) (0.1.77)\n",
      "Requirement already satisfied: packaging<25,>=23.2 in /Users/musabello/anaconda3/lib/python3.11/site-packages (from langchain-core<0.3,>=0.1.40->langchain_chroma) (23.2)\n",
      "Requirement already satisfied: anyio<5,>=3.5.0 in /Users/musabello/anaconda3/lib/python3.11/site-packages (from openai<2.0.0,>=1.26.0->langchain_openai) (3.5.0)\n",
      "Requirement already satisfied: distro<2,>=1.7.0 in /Users/musabello/anaconda3/lib/python3.11/site-packages (from openai<2.0.0,>=1.26.0->langchain_openai) (1.9.0)\n",
      "Requirement already satisfied: sniffio in /Users/musabello/anaconda3/lib/python3.11/site-packages (from openai<2.0.0,>=1.26.0->langchain_openai) (1.2.0)\n",
      "Requirement already satisfied: regex>=2022.1.18 in /Users/musabello/anaconda3/lib/python3.11/site-packages (from tiktoken<1,>=0.7->langchain_openai) (2022.7.9)\n",
      "Requirement already satisfied: idna>=2.8 in /Users/musabello/anaconda3/lib/python3.11/site-packages (from anyio<5,>=3.5.0->openai<2.0.0,>=1.26.0->langchain_openai) (3.4)\n",
      "Requirement already satisfied: pyproject_hooks in /Users/musabello/anaconda3/lib/python3.11/site-packages (from build>=1.0.3->chromadb<0.6.0,>=0.4.0->langchain_chroma) (1.1.0)\n",
      "Requirement already satisfied: dnspython>=2.0.0 in /Users/musabello/anaconda3/lib/python3.11/site-packages (from email_validator>=2.0.0->fastapi<1,>=0.95.2->langchain_chroma) (2.6.1)\n",
      "Requirement already satisfied: certifi in /Users/musabello/anaconda3/lib/python3.11/site-packages (from httpx>=0.23.0->fastapi<1,>=0.95.2->langchain_chroma) (2024.6.2)\n",
      "Requirement already satisfied: rfc3986[idna2008]<2,>=1.3 in /Users/musabello/anaconda3/lib/python3.11/site-packages (from httpx>=0.23.0->fastapi<1,>=0.95.2->langchain_chroma) (1.4.0)\n",
      "Requirement already satisfied: httpcore<0.16.0,>=0.15.0 in /Users/musabello/anaconda3/lib/python3.11/site-packages (from httpx>=0.23.0->fastapi<1,>=0.95.2->langchain_chroma) (0.15.0)\n",
      "Requirement already satisfied: MarkupSafe>=2.0 in /Users/musabello/anaconda3/lib/python3.11/site-packages (from jinja2>=2.11.2->fastapi<1,>=0.95.2->langchain_chroma) (2.1.1)\n",
      "Requirement already satisfied: jsonpointer>=1.9 in /Users/musabello/anaconda3/lib/python3.11/site-packages (from jsonpatch<2.0,>=1.33->langchain-core<0.3,>=0.1.40->langchain_chroma) (2.1)\n",
      "Requirement already satisfied: six>=1.9.0 in /Users/musabello/anaconda3/lib/python3.11/site-packages (from kubernetes>=28.1.0->chromadb<0.6.0,>=0.4.0->langchain_chroma) (1.16.0)\n",
      "Requirement already satisfied: python-dateutil>=2.5.3 in /Users/musabello/anaconda3/lib/python3.11/site-packages (from kubernetes>=28.1.0->chromadb<0.6.0,>=0.4.0->langchain_chroma) (2.8.2)\n",
      "Requirement already satisfied: google-auth>=1.0.1 in /Users/musabello/anaconda3/lib/python3.11/site-packages (from kubernetes>=28.1.0->chromadb<0.6.0,>=0.4.0->langchain_chroma) (2.30.0)\n",
      "Requirement already satisfied: websocket-client!=0.40.0,!=0.41.*,!=0.42.*,>=0.32.0 in /Users/musabello/anaconda3/lib/python3.11/site-packages (from kubernetes>=28.1.0->chromadb<0.6.0,>=0.4.0->langchain_chroma) (0.58.0)\n",
      "Requirement already satisfied: requests-oauthlib in /Users/musabello/anaconda3/lib/python3.11/site-packages (from kubernetes>=28.1.0->chromadb<0.6.0,>=0.4.0->langchain_chroma) (2.0.0)\n",
      "Requirement already satisfied: oauthlib>=3.2.2 in /Users/musabello/anaconda3/lib/python3.11/site-packages (from kubernetes>=28.1.0->chromadb<0.6.0,>=0.4.0->langchain_chroma) (3.2.2)\n",
      "Requirement already satisfied: urllib3>=1.24.2 in /Users/musabello/anaconda3/lib/python3.11/site-packages (from kubernetes>=28.1.0->chromadb<0.6.0,>=0.4.0->langchain_chroma) (2.2.1)\n",
      "Requirement already satisfied: coloredlogs in /Users/musabello/anaconda3/lib/python3.11/site-packages (from onnxruntime>=1.14.1->chromadb<0.6.0,>=0.4.0->langchain_chroma) (15.0.1)\n",
      "Requirement already satisfied: flatbuffers in /Users/musabello/anaconda3/lib/python3.11/site-packages (from onnxruntime>=1.14.1->chromadb<0.6.0,>=0.4.0->langchain_chroma) (24.3.25)\n",
      "Requirement already satisfied: protobuf in /Users/musabello/anaconda3/lib/python3.11/site-packages (from onnxruntime>=1.14.1->chromadb<0.6.0,>=0.4.0->langchain_chroma) (4.25.3)\n",
      "Requirement already satisfied: sympy in /Users/musabello/anaconda3/lib/python3.11/site-packages (from onnxruntime>=1.14.1->chromadb<0.6.0,>=0.4.0->langchain_chroma) (1.11.1)\n",
      "Requirement already satisfied: deprecated>=1.2.6 in /Users/musabello/anaconda3/lib/python3.11/site-packages (from opentelemetry-api>=1.2.0->chromadb<0.6.0,>=0.4.0->langchain_chroma) (1.2.14)\n",
      "Requirement already satisfied: importlib-metadata<=7.1,>=6.0 in /Users/musabello/anaconda3/lib/python3.11/site-packages (from opentelemetry-api>=1.2.0->chromadb<0.6.0,>=0.4.0->langchain_chroma) (6.0.0)\n",
      "Requirement already satisfied: googleapis-common-protos~=1.52 in /Users/musabello/anaconda3/lib/python3.11/site-packages (from opentelemetry-exporter-otlp-proto-grpc>=1.2.0->chromadb<0.6.0,>=0.4.0->langchain_chroma) (1.63.1)\n",
      "Requirement already satisfied: opentelemetry-exporter-otlp-proto-common==1.25.0 in /Users/musabello/anaconda3/lib/python3.11/site-packages (from opentelemetry-exporter-otlp-proto-grpc>=1.2.0->chromadb<0.6.0,>=0.4.0->langchain_chroma) (1.25.0)\n",
      "Requirement already satisfied: opentelemetry-proto==1.25.0 in /Users/musabello/anaconda3/lib/python3.11/site-packages (from opentelemetry-exporter-otlp-proto-grpc>=1.2.0->chromadb<0.6.0,>=0.4.0->langchain_chroma) (1.25.0)\n",
      "Requirement already satisfied: opentelemetry-instrumentation-asgi==0.46b0 in /Users/musabello/anaconda3/lib/python3.11/site-packages (from opentelemetry-instrumentation-fastapi>=0.41b0->chromadb<0.6.0,>=0.4.0->langchain_chroma) (0.46b0)\n",
      "Requirement already satisfied: opentelemetry-instrumentation==0.46b0 in /Users/musabello/anaconda3/lib/python3.11/site-packages (from opentelemetry-instrumentation-fastapi>=0.41b0->chromadb<0.6.0,>=0.4.0->langchain_chroma) (0.46b0)\n",
      "Requirement already satisfied: opentelemetry-semantic-conventions==0.46b0 in /Users/musabello/anaconda3/lib/python3.11/site-packages (from opentelemetry-instrumentation-fastapi>=0.41b0->chromadb<0.6.0,>=0.4.0->langchain_chroma) (0.46b0)\n",
      "Requirement already satisfied: opentelemetry-util-http==0.46b0 in /Users/musabello/anaconda3/lib/python3.11/site-packages (from opentelemetry-instrumentation-fastapi>=0.41b0->chromadb<0.6.0,>=0.4.0->langchain_chroma) (0.46b0)\n",
      "Requirement already satisfied: setuptools>=16.0 in /Users/musabello/anaconda3/lib/python3.11/site-packages (from opentelemetry-instrumentation==0.46b0->opentelemetry-instrumentation-fastapi>=0.41b0->chromadb<0.6.0,>=0.4.0->langchain_chroma) (68.0.0)\n",
      "Requirement already satisfied: wrapt<2.0.0,>=1.0.0 in /Users/musabello/anaconda3/lib/python3.11/site-packages (from opentelemetry-instrumentation==0.46b0->opentelemetry-instrumentation-fastapi>=0.41b0->chromadb<0.6.0,>=0.4.0->langchain_chroma) (1.14.1)\n",
      "Requirement already satisfied: asgiref~=3.0 in /Users/musabello/anaconda3/lib/python3.11/site-packages (from opentelemetry-instrumentation-asgi==0.46b0->opentelemetry-instrumentation-fastapi>=0.41b0->chromadb<0.6.0,>=0.4.0->langchain_chroma) (3.8.1)\n",
      "Requirement already satisfied: monotonic>=1.5 in /Users/musabello/anaconda3/lib/python3.11/site-packages (from posthog>=2.4.0->chromadb<0.6.0,>=0.4.0->langchain_chroma) (1.6)\n",
      "Requirement already satisfied: backoff>=1.10.0 in /Users/musabello/anaconda3/lib/python3.11/site-packages (from posthog>=2.4.0->chromadb<0.6.0,>=0.4.0->langchain_chroma) (2.2.1)\n",
      "Requirement already satisfied: charset-normalizer<4,>=2 in /Users/musabello/anaconda3/lib/python3.11/site-packages (from requests>=2.28->chromadb<0.6.0,>=0.4.0->langchain_chroma) (2.0.4)\n",
      "Requirement already satisfied: click>=8.0.0 in /Users/musabello/anaconda3/lib/python3.11/site-packages (from typer>=0.9.0->chromadb<0.6.0,>=0.4.0->langchain_chroma) (8.0.4)\n",
      "Requirement already satisfied: shellingham>=1.3.0 in /Users/musabello/anaconda3/lib/python3.11/site-packages (from typer>=0.9.0->chromadb<0.6.0,>=0.4.0->langchain_chroma) (1.5.4)\n",
      "Requirement already satisfied: rich>=10.11.0 in /Users/musabello/anaconda3/lib/python3.11/site-packages (from typer>=0.9.0->chromadb<0.6.0,>=0.4.0->langchain_chroma) (13.7.1)\n",
      "Requirement already satisfied: h11>=0.8 in /Users/musabello/anaconda3/lib/python3.11/site-packages (from uvicorn[standard]>=0.18.3->chromadb<0.6.0,>=0.4.0->langchain_chroma) (0.12.0)\n",
      "Requirement already satisfied: httptools>=0.5.0 in /Users/musabello/anaconda3/lib/python3.11/site-packages (from uvicorn[standard]>=0.18.3->chromadb<0.6.0,>=0.4.0->langchain_chroma) (0.6.1)\n",
      "Requirement already satisfied: python-dotenv>=0.13 in /Users/musabello/anaconda3/lib/python3.11/site-packages (from uvicorn[standard]>=0.18.3->chromadb<0.6.0,>=0.4.0->langchain_chroma) (0.21.0)\n",
      "Requirement already satisfied: uvloop!=0.15.0,!=0.15.1,>=0.14.0 in /Users/musabello/anaconda3/lib/python3.11/site-packages (from uvicorn[standard]>=0.18.3->chromadb<0.6.0,>=0.4.0->langchain_chroma) (0.19.0)\n",
      "Requirement already satisfied: watchfiles>=0.13 in /Users/musabello/anaconda3/lib/python3.11/site-packages (from uvicorn[standard]>=0.18.3->chromadb<0.6.0,>=0.4.0->langchain_chroma) (0.22.0)\n",
      "Requirement already satisfied: websockets>=10.4 in /Users/musabello/anaconda3/lib/python3.11/site-packages (from uvicorn[standard]>=0.18.3->chromadb<0.6.0,>=0.4.0->langchain_chroma) (12.0)\n",
      "Requirement already satisfied: cachetools<6.0,>=2.0.0 in /Users/musabello/anaconda3/lib/python3.11/site-packages (from google-auth>=1.0.1->kubernetes>=28.1.0->chromadb<0.6.0,>=0.4.0->langchain_chroma) (5.3.3)\n",
      "Requirement already satisfied: pyasn1-modules>=0.2.1 in /Users/musabello/anaconda3/lib/python3.11/site-packages (from google-auth>=1.0.1->kubernetes>=28.1.0->chromadb<0.6.0,>=0.4.0->langchain_chroma) (0.2.8)\n",
      "Requirement already satisfied: rsa<5,>=3.1.4 in /Users/musabello/anaconda3/lib/python3.11/site-packages (from google-auth>=1.0.1->kubernetes>=28.1.0->chromadb<0.6.0,>=0.4.0->langchain_chroma) (4.9)\n",
      "Requirement already satisfied: zipp>=0.5 in /Users/musabello/anaconda3/lib/python3.11/site-packages (from importlib-metadata<=7.1,>=6.0->opentelemetry-api>=1.2.0->chromadb<0.6.0,>=0.4.0->langchain_chroma) (3.11.0)\n",
      "Requirement already satisfied: markdown-it-py>=2.2.0 in /Users/musabello/anaconda3/lib/python3.11/site-packages (from rich>=10.11.0->typer>=0.9.0->chromadb<0.6.0,>=0.4.0->langchain_chroma) (2.2.0)\n",
      "Requirement already satisfied: pygments<3.0.0,>=2.13.0 in /Users/musabello/anaconda3/lib/python3.11/site-packages (from rich>=10.11.0->typer>=0.9.0->chromadb<0.6.0,>=0.4.0->langchain_chroma) (2.15.1)\n",
      "Requirement already satisfied: humanfriendly>=9.1 in /Users/musabello/anaconda3/lib/python3.11/site-packages (from coloredlogs->onnxruntime>=1.14.1->chromadb<0.6.0,>=0.4.0->langchain_chroma) (10.0)\n",
      "Requirement already satisfied: mpmath>=0.19 in /Users/musabello/anaconda3/lib/python3.11/site-packages (from sympy->onnxruntime>=1.14.1->chromadb<0.6.0,>=0.4.0->langchain_chroma) (1.3.0)\n",
      "Requirement already satisfied: mdurl~=0.1 in /Users/musabello/anaconda3/lib/python3.11/site-packages (from markdown-it-py>=2.2.0->rich>=10.11.0->typer>=0.9.0->chromadb<0.6.0,>=0.4.0->langchain_chroma) (0.1.0)\n",
      "Requirement already satisfied: pyasn1<0.5.0,>=0.4.6 in /Users/musabello/anaconda3/lib/python3.11/site-packages (from pyasn1-modules>=0.2.1->google-auth>=1.0.1->kubernetes>=28.1.0->chromadb<0.6.0,>=0.4.0->langchain_chroma) (0.4.8)\n",
      "Note: you may need to restart the kernel to use updated packages.\n"
     ]
    }
   ],
   "source": [
    "%pip install langchain_chroma langchain_openai"
   ]
  },
  {
   "cell_type": "code",
   "execution_count": 127,
   "id": "c01ac907-f7ca-4fd8-8bf2-4f15ce01251a",
   "metadata": {
    "tags": []
   },
   "outputs": [],
   "source": [
    "from langchain_chroma import Chroma\n",
    "from langchain_openai import OpenAIEmbeddings\n",
    "from langchain_text_splitters import RecursiveCharacterTextSplitter\n",
    "\n",
    "text_splitter = RecursiveCharacterTextSplitter(chunk_size=1000, chunk_overlap=200)\n",
    "splits = text_splitter.split_documents(docs)\n",
    "vectorstore = Chroma.from_documents(documents=splits, embedding=OpenAIEmbeddings())\n",
    "\n",
    "retriever = vectorstore.as_retriever()"
   ]
  },
  {
   "cell_type": "code",
   "execution_count": 152,
   "id": "00d680c2-1b8d-4f56-8e16-e1d3f2b6dbaf",
   "metadata": {
    "tags": []
   },
   "outputs": [
    {
     "data": {
      "text/plain": [
       "\"I can't provide an answer that is out of scope. The given context is about tomato farming in Nigeria, not Morocco.\""
      ]
     },
     "execution_count": 152,
     "metadata": {},
     "output_type": "execute_result"
    }
   ],
   "source": [
    "from langchain.chains import create_retrieval_chain\n",
    "from langchain.chains.combine_documents import create_stuff_documents_chain\n",
    "from langchain_core.prompts import ChatPromptTemplate\n",
    "\n",
    "# system_prompt = (\n",
    "#     \"You are an assistant for question-answering tasks. \"\n",
    "#     \"Use the following pieces of retrieved context to answer \"\n",
    "#     \"the question. If you don't know the answer, say that you \"\n",
    "#     \"don't know. Use three sentences maximum and keep the \"\n",
    "#     \"answer concise.\"\n",
    "#     \"\\n\\n\"\n",
    "#     \"{context}\"\n",
    "# )\n",
    "\n",
    "system_prompt = (\n",
    "    \"You are an assistant for question-answering tasks. \"\n",
    "    \"Use the following pieces of retrieved context to answer \"\n",
    "    \"the question. Do not answer any question out of CONTEXT, Just say you can not provide an answer that is out of the scope using your own wordings\"\n",
    "    \"\\n\\n\"\n",
    "    \"{context}\"\n",
    ")\n",
    "\n",
    "prompt = ChatPromptTemplate.from_messages(\n",
    "    [\n",
    "        (\"system\", system_prompt),\n",
    "        (\"human\", \"{input}\"),\n",
    "    ]\n",
    ")\n",
    "\n",
    "\n",
    "question_answer_chain = create_stuff_documents_chain(llm\n",
    "                                                     , prompt)\n",
    "rag_chain = create_retrieval_chain(retriever, question_answer_chain)\n",
    "\n",
    "results = rag_chain.invoke({\"input\": \"What should be the soil ph to be used for tomato farming in Moroco?\"})\n",
    "\n",
    "results[\"answer\"]"
   ]
  },
  {
   "cell_type": "code",
   "execution_count": 93,
   "id": "0d1d5ed6-3369-42a6-b317-8d94bfacd2d4",
   "metadata": {
    "tags": []
   },
   "outputs": [
    {
     "name": "stdout",
     "output_type": "stream",
     "text": [
      "14. Tomato Harvest In tomato farming, harvesting typically commences 55-70 days after transplanting depending on the variety of tomato planted. Some varieties of tomatoes have thick fruits; these thick fruits last longer than the soft skin tomato varieties. It is advised that a farmer should have a way of preserving his tomato fruits after harvest. Tomatoes are usually harvested when they are red or yellow turning into red. Some tomato farmers harvest their tomatoes when green, I do not advise this as it may be difficult to turn the colour from green to red. People will not buy green tomatoes.. For those who have the financial capability, you can harvest your tomato fruits and process them into paste and puree on farm. Tomatoes can also be harvested, sun dried and milled into powder. 15. Post-Harvest and Marketing Post-harvest activities in tomato farming include sorting, packaging and storage of the harvested tomato fruits.\n"
     ]
    }
   ],
   "source": [
    "print(results[\"context\"][0].page_content)"
   ]
  },
  {
   "cell_type": "code",
   "execution_count": 95,
   "id": "10c7f13f-9fb9-4899-8f19-67a90a18753a",
   "metadata": {
    "tags": []
   },
   "outputs": [
    {
     "name": "stdout",
     "output_type": "stream",
     "text": [
      "{'page': 9, 'source': './Tomato Farming in Nigeria.pdf'}\n"
     ]
    }
   ],
   "source": [
    "print(results[\"context\"][0].metadata)"
   ]
  }
 ],
 "metadata": {
  "kernelspec": {
   "display_name": "Python 3 (ipykernel)",
   "language": "python",
   "name": "python3"
  },
  "language_info": {
   "codemirror_mode": {
    "name": "ipython",
    "version": 3
   },
   "file_extension": ".py",
   "mimetype": "text/x-python",
   "name": "python",
   "nbconvert_exporter": "python",
   "pygments_lexer": "ipython3",
   "version": "3.11.5"
  }
 },
 "nbformat": 4,
 "nbformat_minor": 5
}
